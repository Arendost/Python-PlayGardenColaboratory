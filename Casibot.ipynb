{
  "nbformat": 4,
  "nbformat_minor": 0,
  "metadata": {
    "colab": {
      "name": "Untitled0.ipynb",
      "provenance": [],
      "authorship_tag": "ABX9TyNeis0F9MsIcA5VRX2F4Yvq",
      "include_colab_link": true
    },
    "kernelspec": {
      "name": "python3",
      "display_name": "Python 3"
    },
    "language_info": {
      "name": "python"
    }
  },
  "cells": [
    {
      "cell_type": "markdown",
      "metadata": {
        "id": "view-in-github",
        "colab_type": "text"
      },
      "source": [
        "<a href=\"https://colab.research.google.com/github/Arendost/Python-PlayGardenColaboratory/blob/main/Casibot.ipynb\" target=\"_parent\"><img src=\"https://colab.research.google.com/assets/colab-badge.svg\" alt=\"Open In Colab\"/></a>"
      ]
    },
    {
      "cell_type": "code",
      "metadata": {
        "id": "GS9_d5y_1ZEi"
      },
      "source": [
        "!pip install pyTelegramBotAPI"
      ],
      "execution_count": null,
      "outputs": []
    },
    {
      "cell_type": "code",
      "metadata": {
        "id": "0u6X0z7H3ZEP"
      },
      "source": [
        "#https://api.telegram.org/bot<>/getMe\n",
        "#https://api.telegram.org/bot</getUpdates\n",
        "\n",
        "import telebot # Importamos las librería\n",
        "TOKEN = \"\" # Ponemos nuestro Token generado con el @BotFather\n",
        "bot = telebot.TeleBot(TOKEN)  #Creamos nuestra instancia \"bot\" a partir de ese TOKEN\n",
        "\n",
        "@bot.message_handler(commands=['start', 'help'])\n",
        "\n",
        "\n",
        "def send_welcome(message):\n",
        "    bot.reply_to(message, \"¿Me ha llamado maestro?\")\n",
        "\n",
        "@bot.message_handler(func=lambda message: True)\n",
        "\n",
        "def echo_all(message):\n",
        "    bot.reply_to(message, message.text)\n",
        "\n",
        "bot.polling()"
      ],
      "execution_count": 16,
      "outputs": []
    }
  ]
}